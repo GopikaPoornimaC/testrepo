{
 "cells": [
  {
   "cell_type": "markdown",
   "id": "b0936a31",
   "metadata": {},
   "source": [
    "# Data Science Tools and Ecosystem"
   ]
  },
  {
   "cell_type": "markdown",
   "id": "a48318b1",
   "metadata": {},
   "source": [
    "### In this notebook, Data Science Tools and Ecosystem are summarized."
   ]
  },
  {
   "cell_type": "markdown",
   "id": "a742a08f",
   "metadata": {},
   "source": [
    "#### Some of the popular languages that Data Scientists use are:"
   ]
  },
  {
   "cell_type": "markdown",
   "id": "167128d8",
   "metadata": {},
   "source": [
    "<ol>\n",
    "<li>Python</li>\n",
    "<li>R</li>\n",
    "<li>Java</li>\n",
    "<li>Sql</li>\n",
    "<li>Java Script</li>\n",
    "</ol>"
   ]
  },
  {
   "cell_type": "markdown",
   "id": "19f6559d",
   "metadata": {},
   "source": [
    "#### Some of the commonly used libraries used by Data Scientists includ"
   ]
  },
  {
   "cell_type": "markdown",
   "id": "90756b1c",
   "metadata": {},
   "source": [
    "<ol>\n",
    "<li>Pandas</li>\n",
    "<li>NumPy</li>\n",
    "<li>SciPy</li>\n",
    "<li>SciKit Learn</li>\n",
    "<li>Tensor Flow</li>\n",
    "</ol>"
   ]
  },
  {
   "cell_type": "markdown",
   "id": "b1e3e8a9",
   "metadata": {},
   "source": [
    "<strong>Table of Data Science Tools</strong>"
   ]
  },
  {
   "cell_type": "markdown",
   "id": "aac31aae",
   "metadata": {},
   "source": [
    "|Data Science Tools|\n",
    "|------------------|\n",
    "|SAS               |\n",
    "|Apache Spark      |\n",
    "|Matlab            |\n",
    "|Excel             |\n",
    "|BigML             |"
   ]
  },
  {
   "cell_type": "markdown",
   "id": "ff0ede36",
   "metadata": {},
   "source": [
    "### Below are a few examples of evaluating arithmetic expressions in Python"
   ]
  },
  {
   "cell_type": "markdown",
   "id": "4db3a4d2",
   "metadata": {},
   "source": [
    "a = 10<br>\n",
    "b = 5<br>\n",
    "Addition = $a+b=15$<br>\n",
    "Subtraction = $a-b=5$<br>\n",
    "Multiplication = $a*b=50$<br>\n",
    "Division = $a/b=2$<br>"
   ]
  },
  {
   "cell_type": "markdown",
   "id": "43eb3afb",
   "metadata": {},
   "source": [
    "<strong>Multiply and Add Integers</strong>"
   ]
  },
  {
   "cell_type": "code",
   "execution_count": 1,
   "id": "a905e67c",
   "metadata": {},
   "outputs": [
    {
     "data": {
      "text/plain": [
       "17"
      ]
     },
     "execution_count": 1,
     "metadata": {},
     "output_type": "execute_result"
    }
   ],
   "source": [
    "# This a simple arithmetic expression to mutiply then add integers\n",
    "(3*4)+5"
   ]
  },
  {
   "cell_type": "markdown",
   "id": "a9a647f9",
   "metadata": {},
   "source": [
    "<h3>code cell to convert minutes to hours</h3>"
   ]
  },
  {
   "cell_type": "code",
   "execution_count": 2,
   "id": "6c8310f8",
   "metadata": {},
   "outputs": [
    {
     "name": "stdout",
     "output_type": "stream",
     "text": [
      "enter minutes : 200\n",
      "200 minutes = 3:20 hours\n"
     ]
    }
   ],
   "source": [
    "#This will convert 200 minutes to hours by diving by 60\n",
    "total_minutes = int(input(\"enter minutes : \"))\n",
    "hours = total_minutes // 60\n",
    "minutes = total_minutes % 60\n",
    "time = \"{}:{}\".format(hours, minutes)\n",
    "\n",
    "print(total_minutes,\"minutes =\",time,\"hours\")"
   ]
  },
  {
   "cell_type": "markdown",
   "id": "cb138273",
   "metadata": {},
   "source": [
    "<strong>Objectives : </strong>"
   ]
  },
  {
   "cell_type": "markdown",
   "id": "f1a4dcf8",
   "metadata": {},
   "source": [
    "<ul>Popular Languages :\n",
    "    <li>R</li>\n",
    "    <li>Python</li>\n",
    "    <li>Java</li>\n",
    "</ul>\n",
    "<ul>DataScience Tools : \n",
    "    <li>Apache Spark</li>\n",
    "    <li>Tableau</li>\n",
    "    <li>Power BI</li>\n",
    "</ul>\n",
    "<ul>Popular Libraries :\n",
    "    <li>Pandas</li>\n",
    "    <li>Numpy</li>\n",
    "    <li>Scikit Learn</li>\n",
    "</ul>"
   ]
  },
  {
   "cell_type": "markdown",
   "id": "abbe9cd2",
   "metadata": {},
   "source": [
    "<strong>Author</strong><br>\n",
    "C Gopika Poornima"
   ]
  },
  {
   "cell_type": "code",
   "execution_count": null,
   "id": "95294ca0",
   "metadata": {},
   "outputs": [],
   "source": []
  }
 ],
 "metadata": {
  "kernelspec": {
   "display_name": "Python 3 (ipykernel)",
   "language": "python",
   "name": "python3"
  },
  "language_info": {
   "codemirror_mode": {
    "name": "ipython",
    "version": 3
   },
   "file_extension": ".py",
   "mimetype": "text/x-python",
   "name": "python",
   "nbconvert_exporter": "python",
   "pygments_lexer": "ipython3",
   "version": "3.10.9"
  }
 },
 "nbformat": 4,
 "nbformat_minor": 5
}
